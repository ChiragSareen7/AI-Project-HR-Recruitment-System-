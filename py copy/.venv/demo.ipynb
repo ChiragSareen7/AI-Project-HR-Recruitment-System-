{
 "cells": [
  {
   "cell_type": "code",
   "execution_count": 1,
   "metadata": {},
   "outputs": [
    {
     "name": "stdout",
     "output_type": "stream",
     "text": [
      "Hello world!\n"
     ]
    }
   ],
   "source": [
    "print(\"Hello world!\")"
   ]
  },
  {
   "cell_type": "code",
   "execution_count": 2,
   "metadata": {},
   "outputs": [
    {
     "name": "stdout",
     "output_type": "stream",
     "text": [
      "Defaulting to user installation because normal site-packages is not writeable\n",
      "Requirement already satisfied: PyPDF2 in /Users/chiragsareen/Library/Python/3.9/lib/python/site-packages (3.0.1)\n",
      "Requirement already satisfied: typing_extensions>=3.10.0.0 in /Users/chiragsareen/Library/Python/3.9/lib/python/site-packages (from PyPDF2) (4.12.2)\n",
      "\u001b[33mWARNING: You are using pip version 21.2.4; however, version 24.2 is available.\n",
      "You should consider upgrading via the '/Library/Developer/CommandLineTools/usr/bin/python3 -m pip install --upgrade pip' command.\u001b[0m\n",
      "Note: you may need to restart the kernel to use updated packages.\n"
     ]
    }
   ],
   "source": [
    "pip install PyPDF2"
   ]
  },
  {
   "cell_type": "code",
   "execution_count": 3,
   "metadata": {},
   "outputs": [
    {
     "name": "stdout",
     "output_type": "stream",
     "text": [
      "Defaulting to user installation because normal site-packages is not writeable\n",
      "Requirement already satisfied: groq in /Users/chiragsareen/Library/Python/3.9/lib/python/site-packages (0.9.0)\n",
      "Requirement already satisfied: pydantic<3,>=1.9.0 in /Users/chiragsareen/Library/Python/3.9/lib/python/site-packages (from groq) (2.8.2)\n",
      "Requirement already satisfied: sniffio in /Users/chiragsareen/Library/Python/3.9/lib/python/site-packages (from groq) (1.3.1)\n",
      "Requirement already satisfied: typing-extensions<5,>=4.7 in /Users/chiragsareen/Library/Python/3.9/lib/python/site-packages (from groq) (4.12.2)\n",
      "Requirement already satisfied: anyio<5,>=3.5.0 in /Users/chiragsareen/Library/Python/3.9/lib/python/site-packages (from groq) (4.4.0)\n",
      "Requirement already satisfied: httpx<1,>=0.23.0 in /Users/chiragsareen/Library/Python/3.9/lib/python/site-packages (from groq) (0.27.0)\n",
      "Requirement already satisfied: distro<2,>=1.7.0 in /Users/chiragsareen/Library/Python/3.9/lib/python/site-packages (from groq) (1.9.0)\n",
      "Requirement already satisfied: idna>=2.8 in /Users/chiragsareen/Library/Python/3.9/lib/python/site-packages (from anyio<5,>=3.5.0->groq) (3.7)\n",
      "Requirement already satisfied: exceptiongroup>=1.0.2 in /Users/chiragsareen/Library/Python/3.9/lib/python/site-packages (from anyio<5,>=3.5.0->groq) (1.2.2)\n",
      "Requirement already satisfied: certifi in /Users/chiragsareen/Library/Python/3.9/lib/python/site-packages (from httpx<1,>=0.23.0->groq) (2024.7.4)\n",
      "Requirement already satisfied: httpcore==1.* in /Users/chiragsareen/Library/Python/3.9/lib/python/site-packages (from httpx<1,>=0.23.0->groq) (1.0.5)\n",
      "Requirement already satisfied: h11<0.15,>=0.13 in /Users/chiragsareen/Library/Python/3.9/lib/python/site-packages (from httpcore==1.*->httpx<1,>=0.23.0->groq) (0.14.0)\n",
      "Requirement already satisfied: annotated-types>=0.4.0 in /Users/chiragsareen/Library/Python/3.9/lib/python/site-packages (from pydantic<3,>=1.9.0->groq) (0.7.0)\n",
      "Requirement already satisfied: pydantic-core==2.20.1 in /Users/chiragsareen/Library/Python/3.9/lib/python/site-packages (from pydantic<3,>=1.9.0->groq) (2.20.1)\n",
      "\u001b[33mWARNING: You are using pip version 21.2.4; however, version 24.2 is available.\n",
      "You should consider upgrading via the '/Library/Developer/CommandLineTools/usr/bin/python3 -m pip install --upgrade pip' command.\u001b[0m\n",
      "Note: you may need to restart the kernel to use updated packages.\n"
     ]
    }
   ],
   "source": [
    "pip install groq"
   ]
  },
  {
   "cell_type": "code",
   "execution_count": 4,
   "metadata": {},
   "outputs": [
    {
     "name": "stdout",
     "output_type": "stream",
     "text": [
      "Here's a summary of the glossary:\n",
      "\n",
      "The glossary consists of 158 terms related to Indian economic development, including:\n",
      "\n",
      "* Concepts: carrying capacity, cascading effect, consumption basket, demographic transition, etc.\n",
      "* Economic policies: fiscal policy, monetary policy, exchange rates, trade policies, etc.\n",
      "* Financial institutions: commercial banks, cooperative banks, development banks, etc.\n",
      "* Labor laws: labor laws, informal sector, unemployed, etc.\n",
      "* Economic growth: GDP, GVA, per capita income, etc.\n",
      "* Macro-economics: inflation, deflation, economic indicators, etc.\n",
      "* Micro-economics: opportunity cost, demand and supply, etc.\n",
      "* International economics: foreign exchange, import substitution, export promotion, etc.\n",
      "* Business concepts: entrepreneurship, entrepreneurship development, small-scale industries, etc.\n",
      "* Financial instruments: shares, bonds, debentures, etc.\n",
      "* Government policies: land revenue settlement, nationalization, new economic policy, etc.\n",
      "\n",
      "Some key concepts that are relevant to Indian economic development include:\n",
      "\n",
      "* Demographic transition: the process of change in the pattern of population growth and structure in response to economic development.\n",
      "* Carrying capacity: the maximum population size that an environment can sustain without being degraded.\n",
      "* Fiscal policy: the use of government revenue and expenditure to regulate the economy.\n",
      "* Monetary policy: the use of interest rates and money supply to regulate the economy.\n",
      "* Foreign direct investment (FDI): the investment of foreign assets into domestic structures, equipment, and organizations.\n",
      "\n",
      "Overall, the glossary provides a comprehensive overview of key concepts, terms, and ideas related to Indian economic development.\n"
     ]
    }
   ],
   "source": [
    "import PyPDF2\n",
    "import os\n",
    "from groq import Groq\n",
    "\n",
    "pdf_path = 'keec1gl.pdf'\n",
    "pdf_reader = PyPDF2.PdfReader(pdf_path)\n",
    "\n",
    "text = \"\"\n",
    "for i in range(1, 7):  \n",
    "    text += pdf_reader.pages[i].extract_text()\n",
    "\n",
    "with open(\"text.txt\", \"w\", encoding='utf-8') as f:\n",
    "    f.write(text)\n",
    "\n",
    "question = input(\"Please enter your question based on the extracted text: \")\n",
    "\n",
    "api_key = \"api_key",
    "\n",
    "client = Groq(\n",
    "    api_key=api_key,\n",
    ")\n",
    "\n",
    "prompt = f\"Context: {text}\\n\\n{question}\"\n",
    "\n",
    "chat_completion = client.chat.completions.create(\n",
    "    messages=[\n",
    "        {\n",
    "            \"role\": \"user\",\n",
    "            \"content\": prompt,\n",
    "        }\n",
    "    ],\n",
    "    model=\"llama3-8b-8192\",\n",
    ")\n",
    "\n",
    "print(chat_completion.choices[0].message.content)\n"
   ]
  }
 ],
 "metadata": {
  "kernelspec": {
   "display_name": "Python 3",
   "language": "python",
   "name": "python3"
  },
  "language_info": {
   "codemirror_mode": {
    "name": "ipython",
    "version": 3
   },
   "file_extension": ".py",
   "mimetype": "text/x-python",
   "name": "python",
   "nbconvert_exporter": "python",
   "pygments_lexer": "ipython3",
   "version": "3.9.6"
  }
 },
 "nbformat": 4,
 "nbformat_minor": 2
}
